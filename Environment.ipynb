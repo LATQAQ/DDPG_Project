{
 "cells": [
  {
   "cell_type": "code",
   "execution_count": 1,
   "metadata": {
    "collapsed": true
   },
   "outputs": [],
   "source": [
    "%matplotlib inline\n",
    "import matplotlib.pyplot as plt\n",
    "import seaborn as sns\n",
    "import torch\n",
    "import torch.nn as nn\n",
    "import torch.nn.functional as F\n",
    "from collections import deque\n",
    "import random\n",
    "import torch.optim as optim\n",
    "import numpy as np\n",
    "import gym\n",
    "import os\n",
    "import torch\n",
    "import numpy as np\n",
    "import random"
   ]
  },
  {
   "cell_type": "code",
   "execution_count": 22,
   "outputs": [],
   "source": [
    "class Plane:\n",
    "    def __init__(self, tag, x_b= 0.000001, y_b= 0.000001, z_b= 0.000001, v_x= 0.000001, v_y= 0.000001, v_z= 0.000001, u= 0.000001, v= 0.000001, w= 0.000001, X= 0.000001, Y= 0.000001, Z= 0.000001, T_max=49840, p= 0.000001, q= 0.000001, r= 0.000001, l_a= 0.000001, m_a= 0.000001, n_a= 0.000001, m = 15119):\n",
    "        self.tag = tag\n",
    "        self.m = m\n",
    "        self.x_b = x_b\n",
    "        self.y_b = y_b\n",
    "        self.z_b = z_b\n",
    "        self.v_x = v_x\n",
    "        self.v_y = v_y\n",
    "        self.v_z = v_z\n",
    "        self.u = u\n",
    "        self.v = v\n",
    "        self.w = w\n",
    "        self.X = X\n",
    "        self.Y = Y\n",
    "        self.Z = Z\n",
    "        self.T_max = T_max\n",
    "        self.p = p\n",
    "        self.q = q\n",
    "        self.r = r\n",
    "        self.p = p\n",
    "        self.l_a = l_a\n",
    "        self.m_a = m_a\n",
    "        self.n_a = n_a\n",
    "        self.g = 9.8\n",
    "\n",
    "        # 初始姿态四元数\n",
    "        self.q_0, self.q_1, self.q_2, self.q_3 = 1,0,0,0\n",
    "        k = 31184*230414 - (4028.1**2)\n",
    "\n",
    "        # 飞行器惯量张量\n",
    "        self.I = np.array([[31184,0,4028.1],[0,205125,0],[4028.1,0,230414]])\n",
    "        self.I_1 = np.array([[31184/k,0,4028.1/k],[0,1/205125,0],[4028.1/k,0,230414/k]])\n",
    "\n",
    "        # 飞行器体系下角速度\n",
    "        self.omega = np.array([[0.000001],[0.000001],[0.000001]])\n",
    "\n",
    "        # 根据四元数计算欧拉角\n",
    "        self.phi = 0.000001\n",
    "        self.theta = 0.000001\n",
    "        self.psi = 0.000001\n",
    "\n",
    "        # 计算迎角和侧滑角\n",
    "        self.alpha = 0.000001\n",
    "        self.beta = 0.000001\n",
    "\n",
    "    def update(self,delta_e,delta_a,delta_r,eta,delt_t):\n",
    "        # 计算迎角和侧滑角\n",
    "        self.alpha = np.arctan(self.w/self.u)\n",
    "        self.beta = np.arcsin(self.v/np.sqrt(self.u**2+self.v**2+self.w**2))\n",
    "\n",
    "        # 更新姿态四元数\n",
    "        self.q_ = 0.5*np.array([[-self.q_1, -self.q_2, -self.q_3],[self.q_0, -self.q_3, self.q_2],[self.q_3, self.q_0, -self.q_1],[-self.q_2, self.q_1, self.q_0]])@self.omega\n",
    "        self.q_0 = self.q_[0]\n",
    "        self.q_1 = self.q_[1]\n",
    "        self.q_2 = self.q_[2]\n",
    "        self.q_3 = self.q_[3]\n",
    "\n",
    "        # 根据四元数计算欧拉角\n",
    "        self.phi = np.arctan((2*self.q_0*self.q_1+2*self.q_2*self.q_3)/(self.q_0**2-self.q_1**2-self.q_2**2+self.q_3**2))\n",
    "        self.theta = np.arcsin(2*self.q_0*self.q_2-2*self.q_1*self.q_3)\n",
    "        self.psi = np.arctan((2*self.q_0*self.q_3+2*self.q_1*self.q_2)/(self.q_0**2+self.q_1**2-self.q_2**2-self.q_3**2))\n",
    "\n",
    "        # 气动力模型\n",
    "        if self.alpha>=-5 and self.alpha<20:\n",
    "            C_D =0.0013*(self.alpha**2)-0.00438*self.alpha+0.1423\n",
    "        elif self.alpha>=20 and self.alpha<=40:\n",
    "            C_D = -0.0000348*(self.alpha**2)+0.0473*self.alpha-0.358\n",
    "\n",
    "        C_Y = -0.0186*self.beta+(delta_a/25)*(-0.00227*self.alpha+0.039)+(delta_r/30)*(-0.00265*self.alpha+0.141)\n",
    "\n",
    "        if self.alpha>=-5 and self.alpha<10:\n",
    "            C_L = 0.0751*self.alpha+0.0144*delta_e+0.732\n",
    "        elif self.alpha>=10 and self.alpha<=40:\n",
    "            C_L = -0.00148*(self.alpha**2)+0.106*self.alpha+0.0144*delta_e+0.569\n",
    "\n",
    "        if self.alpha>=-5 and self.alpha<15:\n",
    "            C_l = (-0.00012*self.alpha-0.00092)*self.beta-0.0315*self.p+0.0126*self.r+(delta_a/25)*(0.00121*self.alpha-0.0628)-(delta_r/30)*(0.000351*self.alpha-0.0124)\n",
    "        elif self.alpha>=15 and self.alpha<=25:\n",
    "            C_l = (0.00022*self.alpha-0.006)*self.beta-0.0315*self.p+0.0126*self.r+(delta_a/25)*(0.00121*self.alpha-0.0628)-(delta_r/30)*(0.000351*self.alpha-0.0124)\n",
    "\n",
    "        C_m = -0.00437*self.alpha-0.0196*delta_e-0.123*self.q-0.1885\n",
    "\n",
    "        if self.alpha>=-5 and self.alpha<10:\n",
    "            C_n = 0.00125*self.beta-0.0142*self.r+(delta_a/25)*(0.000213*self.alpha+0.00128)+(delta_r/30)*(0.000804*self.alpha-0.0474)\n",
    "        elif self.alpha>=10 and self.alpha<25:\n",
    "            C_n = (-0.00022*self.alpha+0.00342)*self.beta-0.0142*self.r+(delta_a/25)*(0.000213*self.alpha+0.00128)+(delta_r/30)*(0.000804*self.alpha-0.0474)\n",
    "        elif self.alpha>=25 and self.alpha<=35:\n",
    "            C_n = -0.00201*self.beta-0.0142*self.r+(delta_a/25)*(0.000213*self.alpha+0.00128)+(delta_r/30)*(0.000804*self.alpha-0.0474)\n",
    "\n",
    "        rho = 1.293\n",
    "        V = np.sqrt(self.v_x**2+self.v_y**2+self.v_z)\n",
    "        Q = 0.5*rho*V**2\n",
    "        S = 37.16\n",
    "        b = 11.41\n",
    "        c = 3.51\n",
    "\n",
    "        self.D = Q*S*C_D\n",
    "        self.Y = Q*S*C_Y\n",
    "        self.L = Q*S*C_L\n",
    "\n",
    "        self.l_a = Q*S*b*C_l\n",
    "        self.m_a = Q*S*c*C_m\n",
    "        self.n_a = Q*S*b*C_m\n",
    "\n",
    "        # 更新飞行器体系下角速度\n",
    "        self.omega = self.I_1@(-1*np.array([[0,-self.r,self.q],[self.r,0,-self.p],[-self.q,self.p,0]])@self.I@np.array([[self.p],[self.q],[self.r]])+np.array([[self.l_a],[self.m_a],[self.n_a]]))\n",
    "\n",
    "        # 方向余弦矩阵\n",
    "        self.R_g_b = np.array([[np.cos(self.phi),0,-np.sin(self.phi)],[0,1,0],[np.sin(self.phi),0,np.cos(self.phi)]])@np.array([[1,0,0],[0,np.cos(self.theta),np.sin(self.theta)],[0,-np.sin(self.theta),np.cos(self.theta)]])@np.array([[np.cos(self.psi),np.sin(self.psi),0],[-np.sin(self.psi),np.cos(self.psi),0],[0,0,1]])\n",
    "\n",
    "        self.X = np.cos(self.alpha)*np.cos(self.beta)*-self.D+(-np.cos(self.alpha)*np.sin(self.beta))*self.Y+(-np.sin(self.alpha))*-self.L\n",
    "        self.Y = np.sin(self.beta)*-self.D+np.cos(self.beta)*self.Y\n",
    "        self.Z = np.sin(self.alpha)*np.cos(self.beta)*-self.D+(-np.sin(self.alpha)*np.sin(self.beta))*self.Y+(np.cos(self.alpha))*-self.L\n",
    "\n",
    "        self.u = self.v*self.r-self.w*self.q-self.g*self.R_b_g+(self.X+eta*self.T_max)/self.m\n",
    "        self.v = -self.u*self.r+self.w*self.p-self.g*self.R_b_g+self.Y/self.m\n",
    "        self.w = self.u*self.q-self.v*self.p-self.g*self.R_b_g+self.Z/self.m\n",
    "\n",
    "        self.v_x = self.R_g_b * self.u\n",
    "        self.v_y = self.R_g_b * self.v\n",
    "        self.v_z = self.R_g_b * self.w\n",
    "\n",
    "        self.x_b = delt_t * self.v_x\n",
    "        self.y_b = delt_t * self.v_y\n",
    "        self.z_b = delt_t * self.v_z"
   ],
   "metadata": {
    "collapsed": false
   }
  },
  {
   "cell_type": "code",
   "execution_count": 24,
   "outputs": [],
   "source": [
    "agent = Plane(1)"
   ],
   "metadata": {
    "collapsed": false
   }
  },
  {
   "cell_type": "code",
   "execution_count": 25,
   "outputs": [
    {
     "name": "stderr",
     "output_type": "stream",
     "text": [
      "C:\\Users\\15163\\AppData\\Local\\Temp\\ipykernel_13296\\3088562803.py:110: VisibleDeprecationWarning: Creating an ndarray from ragged nested sequences (which is a list-or-tuple of lists-or-tuples-or ndarrays with different lengths or shapes) is deprecated. If you meant to do this, you must specify 'dtype=object' when creating the ndarray.\n",
      "  self.R_g_b = np.array([[np.cos(self.phi),0,-np.sin(self.phi)],[0,1,0],[np.sin(self.phi),0,np.cos(self.phi)]])@np.array([[1,0,0],[0,np.cos(self.theta),np.sin(self.theta)],[0,-np.sin(self.theta),np.cos(self.theta)]])@np.array([[np.cos(self.psi),np.sin(self.psi),0],[-np.sin(self.psi),np.cos(self.psi),0],[0,0,1]])\n"
     ]
    },
    {
     "ename": "AttributeError",
     "evalue": "'Plane' object has no attribute 'R_b_g'",
     "output_type": "error",
     "traceback": [
      "\u001B[1;31m---------------------------------------------------------------------------\u001B[0m",
      "\u001B[1;31mAttributeError\u001B[0m                            Traceback (most recent call last)",
      "Cell \u001B[1;32mIn[25], line 1\u001B[0m\n\u001B[1;32m----> 1\u001B[0m \u001B[43magent\u001B[49m\u001B[38;5;241;43m.\u001B[39;49m\u001B[43mupdate\u001B[49m\u001B[43m(\u001B[49m\u001B[38;5;241;43m1\u001B[39;49m\u001B[43m,\u001B[49m\u001B[38;5;241;43m1\u001B[39;49m\u001B[43m,\u001B[49m\u001B[38;5;241;43m1\u001B[39;49m\u001B[43m,\u001B[49m\u001B[38;5;241;43m10\u001B[39;49m\u001B[43m,\u001B[49m\u001B[38;5;241;43m10\u001B[39;49m\u001B[43m)\u001B[49m\n",
      "Cell \u001B[1;32mIn[22], line 116\u001B[0m, in \u001B[0;36mPlane.update\u001B[1;34m(self, delta_e, delta_a, delta_r, eta, delt_t)\u001B[0m\n\u001B[0;32m    113\u001B[0m \u001B[38;5;28mself\u001B[39m\u001B[38;5;241m.\u001B[39mY \u001B[38;5;241m=\u001B[39m np\u001B[38;5;241m.\u001B[39msin(\u001B[38;5;28mself\u001B[39m\u001B[38;5;241m.\u001B[39mbeta)\u001B[38;5;241m*\u001B[39m\u001B[38;5;241m-\u001B[39m\u001B[38;5;28mself\u001B[39m\u001B[38;5;241m.\u001B[39mD\u001B[38;5;241m+\u001B[39mnp\u001B[38;5;241m.\u001B[39mcos(\u001B[38;5;28mself\u001B[39m\u001B[38;5;241m.\u001B[39mbeta)\u001B[38;5;241m*\u001B[39m\u001B[38;5;28mself\u001B[39m\u001B[38;5;241m.\u001B[39mY\n\u001B[0;32m    114\u001B[0m \u001B[38;5;28mself\u001B[39m\u001B[38;5;241m.\u001B[39mZ \u001B[38;5;241m=\u001B[39m np\u001B[38;5;241m.\u001B[39msin(\u001B[38;5;28mself\u001B[39m\u001B[38;5;241m.\u001B[39malpha)\u001B[38;5;241m*\u001B[39mnp\u001B[38;5;241m.\u001B[39mcos(\u001B[38;5;28mself\u001B[39m\u001B[38;5;241m.\u001B[39mbeta)\u001B[38;5;241m*\u001B[39m\u001B[38;5;241m-\u001B[39m\u001B[38;5;28mself\u001B[39m\u001B[38;5;241m.\u001B[39mD\u001B[38;5;241m+\u001B[39m(\u001B[38;5;241m-\u001B[39mnp\u001B[38;5;241m.\u001B[39msin(\u001B[38;5;28mself\u001B[39m\u001B[38;5;241m.\u001B[39malpha)\u001B[38;5;241m*\u001B[39mnp\u001B[38;5;241m.\u001B[39msin(\u001B[38;5;28mself\u001B[39m\u001B[38;5;241m.\u001B[39mbeta))\u001B[38;5;241m*\u001B[39m\u001B[38;5;28mself\u001B[39m\u001B[38;5;241m.\u001B[39mY\u001B[38;5;241m+\u001B[39m(np\u001B[38;5;241m.\u001B[39mcos(\u001B[38;5;28mself\u001B[39m\u001B[38;5;241m.\u001B[39malpha))\u001B[38;5;241m*\u001B[39m\u001B[38;5;241m-\u001B[39m\u001B[38;5;28mself\u001B[39m\u001B[38;5;241m.\u001B[39mL\n\u001B[1;32m--> 116\u001B[0m \u001B[38;5;28mself\u001B[39m\u001B[38;5;241m.\u001B[39mu \u001B[38;5;241m=\u001B[39m \u001B[38;5;28mself\u001B[39m\u001B[38;5;241m.\u001B[39mv\u001B[38;5;241m*\u001B[39m\u001B[38;5;28mself\u001B[39m\u001B[38;5;241m.\u001B[39mr\u001B[38;5;241m-\u001B[39m\u001B[38;5;28mself\u001B[39m\u001B[38;5;241m.\u001B[39mw\u001B[38;5;241m*\u001B[39m\u001B[38;5;28mself\u001B[39m\u001B[38;5;241m.\u001B[39mq\u001B[38;5;241m-\u001B[39m\u001B[38;5;28mself\u001B[39m\u001B[38;5;241m.\u001B[39mg\u001B[38;5;241m*\u001B[39m\u001B[38;5;28;43mself\u001B[39;49m\u001B[38;5;241;43m.\u001B[39;49m\u001B[43mR_b_g\u001B[49m\u001B[38;5;241m+\u001B[39m(\u001B[38;5;28mself\u001B[39m\u001B[38;5;241m.\u001B[39mX\u001B[38;5;241m+\u001B[39meta\u001B[38;5;241m*\u001B[39m\u001B[38;5;28mself\u001B[39m\u001B[38;5;241m.\u001B[39mT_max)\u001B[38;5;241m/\u001B[39m\u001B[38;5;28mself\u001B[39m\u001B[38;5;241m.\u001B[39mm\n\u001B[0;32m    117\u001B[0m \u001B[38;5;28mself\u001B[39m\u001B[38;5;241m.\u001B[39mv \u001B[38;5;241m=\u001B[39m \u001B[38;5;241m-\u001B[39m\u001B[38;5;28mself\u001B[39m\u001B[38;5;241m.\u001B[39mu\u001B[38;5;241m*\u001B[39m\u001B[38;5;28mself\u001B[39m\u001B[38;5;241m.\u001B[39mr\u001B[38;5;241m+\u001B[39m\u001B[38;5;28mself\u001B[39m\u001B[38;5;241m.\u001B[39mw\u001B[38;5;241m*\u001B[39m\u001B[38;5;28mself\u001B[39m\u001B[38;5;241m.\u001B[39mp\u001B[38;5;241m-\u001B[39m\u001B[38;5;28mself\u001B[39m\u001B[38;5;241m.\u001B[39mg\u001B[38;5;241m*\u001B[39m\u001B[38;5;28mself\u001B[39m\u001B[38;5;241m.\u001B[39mR_b_g\u001B[38;5;241m+\u001B[39m\u001B[38;5;28mself\u001B[39m\u001B[38;5;241m.\u001B[39mY\u001B[38;5;241m/\u001B[39m\u001B[38;5;28mself\u001B[39m\u001B[38;5;241m.\u001B[39mm\n\u001B[0;32m    118\u001B[0m \u001B[38;5;28mself\u001B[39m\u001B[38;5;241m.\u001B[39mw \u001B[38;5;241m=\u001B[39m \u001B[38;5;28mself\u001B[39m\u001B[38;5;241m.\u001B[39mu\u001B[38;5;241m*\u001B[39m\u001B[38;5;28mself\u001B[39m\u001B[38;5;241m.\u001B[39mq\u001B[38;5;241m-\u001B[39m\u001B[38;5;28mself\u001B[39m\u001B[38;5;241m.\u001B[39mv\u001B[38;5;241m*\u001B[39m\u001B[38;5;28mself\u001B[39m\u001B[38;5;241m.\u001B[39mp\u001B[38;5;241m-\u001B[39m\u001B[38;5;28mself\u001B[39m\u001B[38;5;241m.\u001B[39mg\u001B[38;5;241m*\u001B[39m\u001B[38;5;28mself\u001B[39m\u001B[38;5;241m.\u001B[39mR_b_g\u001B[38;5;241m+\u001B[39m\u001B[38;5;28mself\u001B[39m\u001B[38;5;241m.\u001B[39mZ\u001B[38;5;241m/\u001B[39m\u001B[38;5;28mself\u001B[39m\u001B[38;5;241m.\u001B[39mm\n",
      "\u001B[1;31mAttributeError\u001B[0m: 'Plane' object has no attribute 'R_b_g'"
     ]
    }
   ],
   "source": [
    "agent.update(1,1,1,10,10)"
   ],
   "metadata": {
    "collapsed": false
   }
  }
 ],
 "metadata": {
  "kernelspec": {
   "display_name": "Python 3",
   "language": "python",
   "name": "python3"
  },
  "language_info": {
   "codemirror_mode": {
    "name": "ipython",
    "version": 2
   },
   "file_extension": ".py",
   "mimetype": "text/x-python",
   "name": "python",
   "nbconvert_exporter": "python",
   "pygments_lexer": "ipython2",
   "version": "2.7.6"
  }
 },
 "nbformat": 4,
 "nbformat_minor": 0
}
